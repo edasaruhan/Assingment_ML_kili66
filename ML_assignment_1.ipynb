{
 "cells": [
  {
   "cell_type": "code",
   "execution_count": 1,
   "id": "93743c64",
   "metadata": {},
   "outputs": [],
   "source": [
    "import numpy as np\n",
    "import matplotlib.pyplot as plt\n",
    "from sklearn.preprocessing import StandardScaler\n",
    "from sklearn.model_selection import train_test_split"
   ]
  },
  {
   "cell_type": "code",
   "execution_count": 2,
   "id": "f8f1ec93",
   "metadata": {},
   "outputs": [],
   "source": [
    "# Generate synthetic data with different feature scales\n",
    "np.random.seed(0)\n"
   ]
  },
  {
   "cell_type": "code",
   "execution_count": 3,
   "id": "77f61089",
   "metadata": {},
   "outputs": [
    {
     "data": {
      "text/plain": [
       "array([[30.97627008],\n",
       "       [34.30378733],\n",
       "       [32.05526752],\n",
       "       [30.89766366],\n",
       "       [28.47309599],\n",
       "       [32.91788226],\n",
       "       [28.75174423],\n",
       "       [37.83546002],\n",
       "       [39.27325521],\n",
       "       [27.66883038],\n",
       "       [35.83450076],\n",
       "       [30.5778984 ],\n",
       "       [31.36089122],\n",
       "       [38.51193277],\n",
       "       [21.42072116],\n",
       "       [21.74258599],\n",
       "       [20.40436795],\n",
       "       [36.65239691],\n",
       "       [35.56313502],\n",
       "       [37.40024296],\n",
       "       [39.57236684],\n",
       "       [35.98317128],\n",
       "       [29.22958725],\n",
       "       [35.61058353],\n",
       "       [22.36548852],\n",
       "       [32.79842043],\n",
       "       [22.86706575],\n",
       "       [38.89337834],\n",
       "       [30.43696644],\n",
       "       [28.2932388 ],\n",
       "       [25.29111224],\n",
       "       [35.48467379],\n",
       "       [29.12300664],\n",
       "       [31.36867898],\n",
       "       [20.37579601],\n",
       "       [32.35270994],\n",
       "       [32.24191445],\n",
       "       [32.33867994],\n",
       "       [38.87496157],\n",
       "       [33.63640598],\n",
       "       [27.19015801],\n",
       "       [28.74063908],\n",
       "       [33.95262392],\n",
       "       [21.20450943],\n",
       "       [33.33533431],\n",
       "       [33.41275739],\n",
       "       [24.20765122],\n",
       "       [22.57852595],\n",
       "       [26.30856702],\n",
       "       [27.27421542],\n",
       "       [31.40393541],\n",
       "       [28.77203027],\n",
       "       [39.76747676],\n",
       "       [22.04089621],\n",
       "       [24.17753512],\n",
       "       [23.22619036],\n",
       "       [33.06216651],\n",
       "       [25.06583205],\n",
       "       [29.32621546],\n",
       "       [24.88851184],\n",
       "       [23.17939167],\n",
       "       [22.20750282],\n",
       "       [33.12659179],\n",
       "       [22.76365903],\n",
       "       [23.93164723],\n",
       "       [27.37450341],\n",
       "       [36.4198646 ],\n",
       "       [21.94202552],\n",
       "       [36.75889815],\n",
       "       [21.92196816],\n",
       "       [39.5291893 ],\n",
       "       [29.37302403],\n",
       "       [39.53522176],\n",
       "       [32.09691039],\n",
       "       [34.78527159],\n",
       "       [20.78375585],\n",
       "       [25.65613925],\n",
       "       [22.40393122],\n",
       "       [25.92280395],\n",
       "       [22.37455438],\n",
       "       [26.35966359],\n",
       "       [28.28525989],\n",
       "       [21.28294993],\n",
       "       [33.84944239],\n",
       "       [31.33202908],\n",
       "       [25.30778982],\n",
       "       [30.46496107],\n",
       "       [21.87881022],\n",
       "       [31.51892991],\n",
       "       [38.58592395],\n",
       "       [26.37137905],\n",
       "       [33.3482076 ],\n",
       "       [22.63595725],\n",
       "       [34.32654408],\n",
       "       [25.78812186],\n",
       "       [23.66382724],\n",
       "       [31.7302587 ],\n",
       "       [20.40215092],\n",
       "       [36.57880058],\n",
       "       [20.09390952]])"
      ]
     },
     "execution_count": 3,
     "metadata": {},
     "output_type": "execute_result"
    }
   ],
   "source": [
    "# Daily temperature (feature x1) with a range of [20, 40] degrees Celsius\n",
    "temperature = 20 + 20 * np.random.rand(100, 1)\n",
    "temperature"
   ]
  },
  {
   "cell_type": "code",
   "execution_count": 4,
   "id": "f0a81b2c",
   "metadata": {},
   "outputs": [
    {
     "data": {
      "text/plain": [
       "array([[135.56330736],\n",
       "       [ 54.00159464],\n",
       "       [147.03880442],\n",
       "       [192.43770902],\n",
       "       [ 49.7506287 ],\n",
       "       [115.23146688],\n",
       "       [118.40838625],\n",
       "       [114.45038116],\n",
       "       [ 44.61632653],\n",
       "       [190.5498023 ],\n",
       "       [ 89.42507572],\n",
       "       [169.28173449],\n",
       "       [139.89585506],\n",
       "       [ 59.48739017],\n",
       "       [162.75956394],\n",
       "       [ 79.30114817],\n",
       "       [176.22063942],\n",
       "       [116.25457453],\n",
       "       [176.34707237],\n",
       "       [138.50631802],\n",
       "       [145.05085596],\n",
       "       [100.26487639],\n",
       "       [191.21672694],\n",
       "       [128.79803985],\n",
       "       [ 84.77100971],\n",
       "       [121.27864283],\n",
       "       [  3.83863966],\n",
       "       [ 60.31496333],\n",
       "       [132.0347075 ],\n",
       "       [ 58.01552144],\n",
       "       [123.6030858 ],\n",
       "       [ 85.75374019],\n",
       "       [ 27.09481284],\n",
       "       [ 59.65646519],\n",
       "       [113.99298214],\n",
       "       [118.17455225],\n",
       "       [114.86504977],\n",
       "       [130.64016397],\n",
       "       [130.420654  ],\n",
       "       [ 86.28368709],\n",
       "       [179.30931917],\n",
       "       [ 73.51237401],\n",
       "       [ 87.17298505],\n",
       "       [178.384671  ],\n",
       "       [161.23879781],\n",
       "       [140.77771671],\n",
       "       [ 20.04537746],\n",
       "       [183.89652275],\n",
       "       [142.84825991],\n",
       "       [199.76940131],\n",
       "       [ 29.88966093],\n",
       "       [173.62521147],\n",
       "       [ 32.49858694],\n",
       "       [123.11191286],\n",
       "       [ 24.76399657],\n",
       "       [169.60164586],\n",
       "       [161.46379175],\n",
       "       [113.82014772],\n",
       "       [ 81.43665945],\n",
       "       [ 13.83339909],\n",
       "       [139.48575463],\n",
       "       [ 90.70853654],\n",
       "       [144.41111989],\n",
       "       [173.27646519],\n",
       "       [195.104301  ],\n",
       "       [171.16066848],\n",
       "       [  2.34281684],\n",
       "       [ 71.9956129 ],\n",
       "       [145.99811248],\n",
       "       [ 34.32593545],\n",
       "       [104.20732124],\n",
       "       [ 10.86759767],\n",
       "       [ 39.99930498],\n",
       "       [  3.70435889],\n",
       "       [158.73954067],\n",
       "       [ 44.78493761],\n",
       "       [ 69.07033614],\n",
       "       [185.61625869],\n",
       "       [140.88288038],\n",
       "       [  6.36778591],\n",
       "       [ 32.9388313 ],\n",
       "       [124.2956803 ],\n",
       "       [115.44571772],\n",
       "       [ 47.57856427],\n",
       "       [186.84279958],\n",
       "       [122.79319119],\n",
       "       [107.1265606 ],\n",
       "       [117.98199527],\n",
       "       [146.0244059 ],\n",
       "       [ 62.3889991 ],\n",
       "       [ 79.64421244],\n",
       "       [ 41.9687498 ],\n",
       "       [ 37.23860118],\n",
       "       [188.874478  ],\n",
       "       [147.91015901],\n",
       "       [ 98.09176172],\n",
       "       [ 45.48292559],\n",
       "       [ 50.87129635],\n",
       "       [ 11.60583206],\n",
       "       [ 86.88332511]])"
      ]
     },
     "execution_count": 4,
     "metadata": {},
     "output_type": "execute_result"
    }
   ],
   "source": [
    "# Ice cream sales (feature x2) with a range of [0, 200] units\n",
    "ice_cream_sales = 200 * np.random.rand(100, 1)\n",
    "ice_cream_sales "
   ]
  },
  {
   "cell_type": "code",
   "execution_count": 5,
   "id": "12bd6fb7",
   "metadata": {},
   "outputs": [
    {
     "data": {
      "text/plain": [
       "array([[ 30.97627008, 135.56330736],\n",
       "       [ 34.30378733,  54.00159464],\n",
       "       [ 32.05526752, 147.03880442],\n",
       "       [ 30.89766366, 192.43770902],\n",
       "       [ 28.47309599,  49.7506287 ],\n",
       "       [ 32.91788226, 115.23146688],\n",
       "       [ 28.75174423, 118.40838625],\n",
       "       [ 37.83546002, 114.45038116],\n",
       "       [ 39.27325521,  44.61632653],\n",
       "       [ 27.66883038, 190.5498023 ],\n",
       "       [ 35.83450076,  89.42507572],\n",
       "       [ 30.5778984 , 169.28173449],\n",
       "       [ 31.36089122, 139.89585506],\n",
       "       [ 38.51193277,  59.48739017],\n",
       "       [ 21.42072116, 162.75956394],\n",
       "       [ 21.74258599,  79.30114817],\n",
       "       [ 20.40436795, 176.22063942],\n",
       "       [ 36.65239691, 116.25457453],\n",
       "       [ 35.56313502, 176.34707237],\n",
       "       [ 37.40024296, 138.50631802],\n",
       "       [ 39.57236684, 145.05085596],\n",
       "       [ 35.98317128, 100.26487639],\n",
       "       [ 29.22958725, 191.21672694],\n",
       "       [ 35.61058353, 128.79803985],\n",
       "       [ 22.36548852,  84.77100971],\n",
       "       [ 32.79842043, 121.27864283],\n",
       "       [ 22.86706575,   3.83863966],\n",
       "       [ 38.89337834,  60.31496333],\n",
       "       [ 30.43696644, 132.0347075 ],\n",
       "       [ 28.2932388 ,  58.01552144],\n",
       "       [ 25.29111224, 123.6030858 ],\n",
       "       [ 35.48467379,  85.75374019],\n",
       "       [ 29.12300664,  27.09481284],\n",
       "       [ 31.36867898,  59.65646519],\n",
       "       [ 20.37579601, 113.99298214],\n",
       "       [ 32.35270994, 118.17455225],\n",
       "       [ 32.24191445, 114.86504977],\n",
       "       [ 32.33867994, 130.64016397],\n",
       "       [ 38.87496157, 130.420654  ],\n",
       "       [ 33.63640598,  86.28368709],\n",
       "       [ 27.19015801, 179.30931917],\n",
       "       [ 28.74063908,  73.51237401],\n",
       "       [ 33.95262392,  87.17298505],\n",
       "       [ 21.20450943, 178.384671  ],\n",
       "       [ 33.33533431, 161.23879781],\n",
       "       [ 33.41275739, 140.77771671],\n",
       "       [ 24.20765122,  20.04537746],\n",
       "       [ 22.57852595, 183.89652275],\n",
       "       [ 26.30856702, 142.84825991],\n",
       "       [ 27.27421542, 199.76940131],\n",
       "       [ 31.40393541,  29.88966093],\n",
       "       [ 28.77203027, 173.62521147],\n",
       "       [ 39.76747676,  32.49858694],\n",
       "       [ 22.04089621, 123.11191286],\n",
       "       [ 24.17753512,  24.76399657],\n",
       "       [ 23.22619036, 169.60164586],\n",
       "       [ 33.06216651, 161.46379175],\n",
       "       [ 25.06583205, 113.82014772],\n",
       "       [ 29.32621546,  81.43665945],\n",
       "       [ 24.88851184,  13.83339909],\n",
       "       [ 23.17939167, 139.48575463],\n",
       "       [ 22.20750282,  90.70853654],\n",
       "       [ 33.12659179, 144.41111989],\n",
       "       [ 22.76365903, 173.27646519],\n",
       "       [ 23.93164723, 195.104301  ],\n",
       "       [ 27.37450341, 171.16066848],\n",
       "       [ 36.4198646 ,   2.34281684],\n",
       "       [ 21.94202552,  71.9956129 ],\n",
       "       [ 36.75889815, 145.99811248],\n",
       "       [ 21.92196816,  34.32593545],\n",
       "       [ 39.5291893 , 104.20732124],\n",
       "       [ 29.37302403,  10.86759767],\n",
       "       [ 39.53522176,  39.99930498],\n",
       "       [ 32.09691039,   3.70435889],\n",
       "       [ 34.78527159, 158.73954067],\n",
       "       [ 20.78375585,  44.78493761],\n",
       "       [ 25.65613925,  69.07033614],\n",
       "       [ 22.40393122, 185.61625869],\n",
       "       [ 25.92280395, 140.88288038],\n",
       "       [ 22.37455438,   6.36778591],\n",
       "       [ 26.35966359,  32.9388313 ],\n",
       "       [ 28.28525989, 124.2956803 ],\n",
       "       [ 21.28294993, 115.44571772],\n",
       "       [ 33.84944239,  47.57856427],\n",
       "       [ 31.33202908, 186.84279958],\n",
       "       [ 25.30778982, 122.79319119],\n",
       "       [ 30.46496107, 107.1265606 ],\n",
       "       [ 21.87881022, 117.98199527],\n",
       "       [ 31.51892991, 146.0244059 ],\n",
       "       [ 38.58592395,  62.3889991 ],\n",
       "       [ 26.37137905,  79.64421244],\n",
       "       [ 33.3482076 ,  41.9687498 ],\n",
       "       [ 22.63595725,  37.23860118],\n",
       "       [ 34.32654408, 188.874478  ],\n",
       "       [ 25.78812186, 147.91015901],\n",
       "       [ 23.66382724,  98.09176172],\n",
       "       [ 31.7302587 ,  45.48292559],\n",
       "       [ 20.40215092,  50.87129635],\n",
       "       [ 36.57880058,  11.60583206],\n",
       "       [ 20.09390952,  86.88332511]])"
      ]
     },
     "execution_count": 5,
     "metadata": {},
     "output_type": "execute_result"
    }
   ],
   "source": [
    "# Combine temperature and ice cream sales into a single feature matrix X\n",
    "X = np.hstack((temperature, ice_cream_sales))\n",
    "X"
   ]
  },
  {
   "cell_type": "code",
   "execution_count": 6,
   "id": "583f608e",
   "metadata": {},
   "outputs": [],
   "source": [
    "# Daily profit (target variable y)\n",
    "# Assume that daily profit depends on the temperature, ice cream sales,\n",
    "# and some random noise (normal distribution)\n",
    "daily_profit = 1000 + 30 * temperature + 5 * ice_cream_sales + np.random.randn(100, 1)\n"
   ]
  },
  {
   "cell_type": "code",
   "execution_count": 7,
   "id": "815a6120",
   "metadata": {},
   "outputs": [],
   "source": [
    "# Now, you have synthetic data to analyze and build a predictive model for daily profit based on temperature and ice cream sales.\n",
    "\n",
    "# Perform mean normalization (standardization) on input features\n",
    "\n",
    "#!!! create a function and scale our X and return X_scaled\n",
    "#!!! do this for whole method like max, mean and z-score \n",
    "#!!! compare the result\n"
   ]
  },
  {
   "cell_type": "markdown",
   "id": "5bfd8618",
   "metadata": {},
   "source": [
    "#### Perform mean normalization (standardization) on input features"
   ]
  },
  {
   "cell_type": "code",
   "execution_count": 8,
   "id": "7790032b",
   "metadata": {},
   "outputs": [],
   "source": [
    "import numpy as np\n",
    "def mean_normalization(X):\n",
    "    #X_scaled = (X - mean)/Std\n",
    "    X_mean= np.mean(X, axis=0)\n",
    "    X_std=np.std(X, axis=0)\n",
    "    X_scaled=(X-X_mean)/X_std\n",
    "    \n",
    "    return X_scaled"
   ]
  },
  {
   "cell_type": "markdown",
   "id": "8f3fe963",
   "metadata": {},
   "source": [
    "#### Function to perform Max-Min Scaling (Normalization)"
   ]
  },
  {
   "cell_type": "code",
   "execution_count": 9,
   "id": "0571e5bb",
   "metadata": {},
   "outputs": [],
   "source": [
    "def min_max_scale(X):\n",
    "    # X_scaled = (X - X_min)/(X_max - X_min)\n",
    "    X_min= np.min(X, axis=0)\n",
    "    X_max= np.max(X, axis=0)\n",
    "    X_scaled=(X-X_min)/(X_max-X_min)\n",
    "    \n",
    "    return X_scaled"
   ]
  },
  {
   "cell_type": "markdown",
   "id": "8671856d",
   "metadata": {},
   "source": [
    "#### Function to perform Z-score Scaling"
   ]
  },
  {
   "cell_type": "code",
   "execution_count": 10,
   "id": "c1ac0430",
   "metadata": {},
   "outputs": [],
   "source": [
    "def z_score_scaling(X):\n",
    "    \n",
    "    scale=StandardScaler()\n",
    "    X_scaled=scale.fit_transform(X)\n",
    "    \n",
    "    return X_scaled"
   ]
  },
  {
   "cell_type": "code",
   "execution_count": 11,
   "id": "0a0eed7c",
   "metadata": {
    "scrolled": false
   },
   "outputs": [],
   "source": [
    "# Split the data into training and testing sets\n",
    "X_train, X_test, y_train, y_test = train_test_split(X, daily_profit, test_size=0.2, random_state=42)"
   ]
  },
  {
   "cell_type": "code",
   "execution_count": 12,
   "id": "1595b2b1",
   "metadata": {
    "scrolled": true
   },
   "outputs": [],
   "source": [
    "# Scale the features \n",
    "X_mean_norm = mean_normalization(X_train)\n",
    "X_min_max = min_max_scale(X_train)\n",
    "X_z_score = z_score_scaling(X_train)\n"
   ]
  },
  {
   "cell_type": "code",
   "execution_count": 13,
   "id": "c451878d",
   "metadata": {},
   "outputs": [],
   "source": [
    "# Initialize the weights and bias terms closer to zero for each method\n",
    "#for mean_normalization\n",
    "n_features= X_train.shape[1]\n",
    "w_mean_norm= np.zeros((n_features, 1))\n",
    "b_mean_norm=0\n",
    "\n",
    "#for min max normalization\n",
    "w_min_max = np.zeros((n_features, 1))\n",
    "b_min_max = 0\n",
    "#for z_score\n",
    "w_z_score = np.zeros((n_features, 1))\n",
    "b_z_score = 0"
   ]
  },
  {
   "cell_type": "code",
   "execution_count": 14,
   "id": "ad24f330",
   "metadata": {},
   "outputs": [],
   "source": [
    "# Use a smaller learning rate for smoother convergence\n",
    "alpha = 0.01  # Learning rate\n",
    "num_iterations = 1000"
   ]
  },
  {
   "cell_type": "code",
   "execution_count": 15,
   "id": "2c72bfb3",
   "metadata": {},
   "outputs": [],
   "source": [
    "#Implement the gradient descent\n",
    "m= len(X_train)\n",
    "\n",
    "for iteration in range(num_iterations):\n",
    "    #compute predictions for each method\n",
    "    y_pred_mean_norm = np.dot(X_mean_norm, w_mean_norm) + b_mean_norm\n",
    "    y_pred_min_max = np.dot(X_min_max, w_min_max) + b_min_max\n",
    "    y_pred_z_score = np.dot(X_z_score, w_z_score) + b_z_score\n",
    "    \n",
    "    #compute gradients\n",
    "    w_gradient_mean_norm = (1 / m) * np.dot(X_mean_norm.T, (y_pred_mean_norm - y_train))\n",
    "    b_gradient_mean_norm = (1 / m) * np.sum(y_pred_mean_norm - y_train)\n",
    "\n",
    "    w_gradient_min_max = (1 / m) * np.dot(X_min_max.T, (y_pred_min_max - y_train))\n",
    "    b_gradient_min_max = (1 / m) * np.sum(y_pred_min_max - y_train)\n",
    "\n",
    "    w_gradient_z_score = (1 / m) * np.dot(X_z_score.T, (y_pred_z_score - y_train))\n",
    "    b_gradient_z_score = (1 / m) * np.sum(y_pred_z_score - y_train)\n",
    "    \n",
    "    # Update weights and bias for each method\n",
    "    w_mean_norm -= alpha * w_gradient_mean_norm.reshape(-1, 1)\n",
    "    b_mean_norm -= alpha * b_gradient_mean_norm\n",
    "\n",
    "    w_min_max -= alpha * w_gradient_min_max.reshape(-1, 1)\n",
    "    b_min_max -= alpha * b_gradient_min_max\n",
    "\n",
    "    w_z_score -= alpha * w_gradient_z_score.reshape(-1, 1)\n",
    "    b_z_score -= alpha * b_gradient_z_score\n"
   ]
  },
  {
   "cell_type": "code",
   "execution_count": 16,
   "id": "14b94a80",
   "metadata": {},
   "outputs": [],
   "source": [
    "# Make predictions on the test data for each method\n",
    "y_pred_mean_norm = np.dot(X_test, w_mean_norm) + b_mean_norm\n",
    "y_pred_min_max = np.dot(X_test, w_min_max) + b_min_max\n",
    "y_pred_z_score = np.dot(X_test, w_z_score) + b_z_score"
   ]
  },
  {
   "cell_type": "code",
   "execution_count": 17,
   "id": "ea859a3f",
   "metadata": {},
   "outputs": [],
   "source": [
    "# Calculate MSE for each method\n",
    "from sklearn.metrics import mean_squared_error\n",
    "mse_mean_norm = mean_squared_error(y_test, y_pred_mean_norm)\n",
    "mse_min_max = mean_squared_error(y_test, y_pred_min_max)\n",
    "mse_z_score = mean_squared_error(y_test, y_pred_z_score)"
   ]
  },
  {
   "cell_type": "code",
   "execution_count": 18,
   "id": "9ccc5651",
   "metadata": {
    "scrolled": false
   },
   "outputs": [
    {
     "name": "stdout",
     "output_type": "stream",
     "text": [
      "Mean Squared Error (Mean Normalization): 1410900187.3190227\n",
      "Mean Squared Error (Min-Max Scaling): 16336007480.476648\n",
      "Mean Squared Error (Z-score Standardization): 1410900187.3190227\n"
     ]
    }
   ],
   "source": [
    "# Print MSE results for each method\n",
    "print(\"Mean Squared Error (Mean Normalization):\", mse_mean_norm)\n",
    "print(\"Mean Squared Error (Min-Max Scaling):\", mse_min_max)\n",
    "print(\"Mean Squared Error (Z-score Standardization):\", mse_z_score)"
   ]
  },
  {
   "cell_type": "code",
   "execution_count": 20,
   "id": "886b800b",
   "metadata": {
    "scrolled": true
   },
   "outputs": [
    {
     "name": "stdout",
     "output_type": "stream",
     "text": [
      "Linear Regression with Gradient Descent (Mean Normalization):\n",
      "Weights: [[179.22468638]\n",
      " [281.22582073]]\n",
      "Bias: 2404.5160840465237\n"
     ]
    }
   ],
   "source": [
    "# Print linear regression coefficients for each method\n",
    "print(\"Linear Regression with Gradient Descent (Mean Normalization):\")\n",
    "print(\"Weights:\", w_mean_norm)\n",
    "print(\"Bias:\", b_mean_norm)\n"
   ]
  },
  {
   "cell_type": "code",
   "execution_count": 21,
   "id": "bb58045a",
   "metadata": {},
   "outputs": [
    {
     "name": "stdout",
     "output_type": "stream",
     "text": [
      "Linear Regression with Gradient Descent (Min-Max Scaling):\n",
      "Weights: [[664.90298743]\n",
      " [947.21978952]]\n",
      "Bias: 1599.9096765117727\n"
     ]
    }
   ],
   "source": [
    "print(\"Linear Regression with Gradient Descent (Min-Max Scaling):\")\n",
    "print(\"Weights:\", w_min_max)\n",
    "print(\"Bias:\", b_min_max)"
   ]
  },
  {
   "cell_type": "code",
   "execution_count": 22,
   "id": "0f0dfb02",
   "metadata": {
    "scrolled": false
   },
   "outputs": [
    {
     "name": "stdout",
     "output_type": "stream",
     "text": [
      "Linear Regression with Gradient Descent (Z-score Standardization):\n",
      "Weights: [[179.22468638]\n",
      " [281.22582073]]\n",
      "Bias: 2404.5160840465237\n"
     ]
    }
   ],
   "source": [
    "print(\"Linear Regression with Gradient Descent (Z-score Standardization):\")\n",
    "print(\"Weights:\", w_z_score)\n",
    "print(\"Bias:\", b_z_score)\n"
   ]
  },
  {
   "cell_type": "markdown",
   "id": "6fc835a6",
   "metadata": {},
   "source": [
    "#### Visualize the data points for each linear regression"
   ]
  },
  {
   "cell_type": "code",
   "execution_count": 25,
   "id": "0ae051c0",
   "metadata": {},
   "outputs": [
    {
     "data": {
      "text/plain": [
       "Text(0, 0.5, 'Feature x2')"
      ]
     },
     "execution_count": 25,
     "metadata": {},
     "output_type": "execute_result"
    },
    {
     "data": {
      "image/png": "[encoded data removed]",
      "text/plain": [
       "<Figure size 640x480 with 1 Axes>"
      ]
     },
     "metadata": {},
     "output_type": "display_data"
    }
   ],
   "source": [
    "\n",
    "plt.scatter(X_test[:, 0], X_test[:, 1], c=y_pred_mean_norm)\n",
    "plt.title(\"Linear Reg with Gradient Desc (Mean Normalization)\")\n",
    "plt.xlabel('Feature x1')\n",
    "plt.ylabel('Feature x2')\n"
   ]
  },
  {
   "cell_type": "code",
   "execution_count": 26,
   "id": "c62864ca",
   "metadata": {},
   "outputs": [
    {
     "data": {
      "text/plain": [
       "<function matplotlib.pyplot.xlabel(xlabel, fontdict=None, labelpad=None, *, loc=None, **kwargs)>"
      ]
     },
     "execution_count": 26,
     "metadata": {},
     "output_type": "execute_result"
    },
    {
     "data": {
      "image/png": "[encoded data removed]",
      "text/plain": [
       "<Figure size 640x480 with 1 Axes>"
      ]
     },
     "metadata": {},
     "output_type": "display_data"
    }
   ],
   "source": [
    "\n",
    "plt.scatter(X_test[:, 0], X_test[:, 1], c=y_pred_min_max)\n",
    "plt.title(\"Linear Reg with Gradient Descent (Min-Max Scaling)\")\n",
    "plt.xlabel"
   ]
  },
  {
   "cell_type": "code",
   "execution_count": 27,
   "id": "d0faf681",
   "metadata": {},
   "outputs": [
    {
     "data": {
      "text/plain": [
       "<function matplotlib.pyplot.xlabel(xlabel, fontdict=None, labelpad=None, *, loc=None, **kwargs)>"
      ]
     },
     "execution_count": 27,
     "metadata": {},
     "output_type": "execute_result"
    },
    {
     "data": {
      "image/png": "[encoded data removed]",
      "text/plain": [
       "<Figure size 640x480 with 1 Axes>"
      ]
     },
     "metadata": {},
     "output_type": "display_data"
    }
   ],
   "source": [
    "plt.scatter(X_test[:, 0], X_test[:, 1], c=y_pred_z_score)\n",
    "plt.title(\"Linear Reg with Gradient Descent (Zscore)\")\n",
    "plt.xlabel"
   ]
  },
  {
   "cell_type": "code",
   "execution_count": null,
   "id": "55e47919",
   "metadata": {},
   "outputs": [],
   "source": []
  }
 ],
 "metadata": {
  "kernelspec": {
   "display_name": "Python 3 (ipykernel)",
   "language": "python",
   "name": "python3"
  },
  "language_info": {
   "codemirror_mode": {
    "name": "ipython",
    "version": 3
   },
   "file_extension": ".py",
   "mimetype": "text/x-python",
   "name": "python",
   "nbconvert_exporter": "python",
   "pygments_lexer": "ipython3",
   "version": "3.7.9"
  }
 },
 "nbformat": 4,
 "nbformat_minor": 5
}
